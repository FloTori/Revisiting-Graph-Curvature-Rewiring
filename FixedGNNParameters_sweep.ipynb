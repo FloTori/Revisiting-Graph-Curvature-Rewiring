{
 "cells": [
  {
   "cell_type": "code",
   "execution_count": 1,
   "metadata": {},
   "outputs": [
    {
     "name": "stdout",
     "output_type": "stream",
     "text": [
      "using device:  cuda\n"
     ]
    }
   ],
   "source": [
    "from experiment_utils.largestconnectedcomponent import lcc_dataset\n",
    "from utils.load_datasets import load_data,data_information\n",
    "from experiment_utils.sdrf_cuda import sdrf_BFc,sdrf_JTc,sdrf_JLc,sdrf_AFc\n",
    "from utils.seeds import val_seeds\n",
    "from utils.splits import set_train_val_test_split,set_train_val_test_split_frac\n",
    "from experiment_utils.experimentclass import Experiment\n",
    "\n",
    "import torch\n",
    "import torch.nn.functional as F\n",
    "import torch_geometric\n",
    "device = torch.device(\"cuda\" if torch.cuda.is_available() else \"cpu\")\n",
    "print(\"using device: \", device)\n",
    "import numpy as np\n",
    "\n",
    "from tqdm import tqdm \n",
    "import os\n",
    "import json\n",
    "\n",
    "import wandb"
   ]
  },
  {
   "cell_type": "code",
   "execution_count": 4,
   "metadata": {},
   "outputs": [
    {
     "name": "stdout",
     "output_type": "stream",
     "text": [
      "[352349, 2963575, 265738, 2242045, 4286979, 2572232, 361988, 4896762, 698240, 1080210, 1076899, 4470144, 647785, 2864677, 3673026, 1001466, 591596, 2955934, 4309601, 659396, 226608, 371554, 420705, 1627659, 820255, 476332, 1319946, 1544823, 1896655, 4024031, 3846613, 3294119, 1753540, 1542684, 1243694, 4846073, 1347739, 2071124, 2517929, 646582, 4475777, 4028314, 2060860, 119103, 3652748, 3094689, 3083191, 3603385, 4172515, 4667641, 2122177, 1352276, 2309021, 4868434, 3284025, 2780096, 1828231, 179863, 2910985, 3058147, 2073243, 1454711, 3348766, 1406724, 968063, 1075577, 652008, 3564090, 1987302, 3094829, 4183375, 3082331, 4634634, 2911863, 4255755, 1707861, 2791017, 1364313, 2926477, 1232824, 4476194, 2245886, 4768541, 1870819, 1958616, 2910357, 3886764, 1915449, 1291027, 395481, 3258661, 2211164, 4123811, 3719360, 1476017, 622206, 4295282, 3027382, 3764862, 3140854]\n"
     ]
    }
   ],
   "source": [
    "import random\n",
    "\n",
    "\n",
    "# Bounds of numbers\n",
    "n_min = 0\n",
    "n_max = 5000000\n",
    "\n",
    "# Final number of values \n",
    "n_numbers = 100\n",
    "\n",
    "\n",
    "numbers = [int(random.uniform(n_min, n_max)) for i in range(0, n_numbers)]\n",
    "\n",
    "print(numbers)"
   ]
  },
  {
   "cell_type": "code",
   "execution_count": 2,
   "metadata": {},
   "outputs": [],
   "source": [
    "def create_rewired_edge_index(data,hyperparameters,intermediate_node,remove_edges,curvaturetype: str ):\n",
    "    if curvaturetype == \"BFc_w4cycle\":\n",
    "        G_rewired,_ = sdrf_BFc(\n",
    "            data,\n",
    "            loops=hyperparameters[\"loops\"],\n",
    "            remove_edges=remove_edges,\n",
    "            removal_bound=hyperparameters[\"C+\"],\n",
    "            tau=hyperparameters[\"tau\"],\n",
    "            int_node = intermediate_node,\n",
    "            is_undirected=data.is_undirected(),\n",
    "            fcc = True,\n",
    "            progress_bar= False\n",
    "                        )\n",
    "        edge_index_rewired = torch_geometric.utils.to_undirected(torch.tensor(list(G_rewired.edges)).t())\n",
    "    elif curvaturetype == \"BFc_no4cycle\":\n",
    "        G_rewired,_ = sdrf_BFc(\n",
    "            data,\n",
    "            loops=hyperparameters[\"loops\"],\n",
    "            remove_edges=remove_edges,\n",
    "            removal_bound=hyperparameters[\"C+\"],\n",
    "            tau=hyperparameters[\"tau\"],\n",
    "            int_node = intermediate_node,\n",
    "            is_undirected=data.is_undirected(),\n",
    "            fcc = False,\n",
    "            progress_bar= False\n",
    "                        )\n",
    "        edge_index_rewired = torch_geometric.utils.to_undirected(torch.tensor(list(G_rewired.edges)).t())\n",
    "    elif curvaturetype == \"JTc\":\n",
    "        G_rewired,_ = sdrf_JTc(\n",
    "            data,\n",
    "            loops=hyperparameters[\"loops\"],\n",
    "            remove_edges=remove_edges,\n",
    "            removal_bound=hyperparameters[\"C+\"],\n",
    "            tau=hyperparameters[\"tau\"],\n",
    "            is_undirected=data.is_undirected(),\n",
    "            progress_bar= False\n",
    "                        )\n",
    "        edge_index_rewired = torch_geometric.utils.to_undirected(torch.tensor(list(G_rewired.edges)).t())\n",
    "    elif curvaturetype == \"JLc\":\n",
    "        G_rewired,_ = sdrf_JLc(\n",
    "            data,\n",
    "            loops=hyperparameters[\"loops\"],\n",
    "            remove_edges=remove_edges,\n",
    "            removal_bound=hyperparameters[\"C+\"],\n",
    "            tau=hyperparameters[\"tau\"], \n",
    "            is_undirected=data.is_undirected(),\n",
    "            progress_bar = False\n",
    "                        )\n",
    "        edge_index_rewired = torch_geometric.utils.to_undirected(torch.tensor(list(G_rewired.edges)).t())\n",
    "    elif curvaturetype == \"AFc_3\":\n",
    "        G_rewired,_ = sdrf_AFc(\n",
    "            data,\n",
    "            loops=hyperparameters[\"loops\"],\n",
    "            remove_edges=remove_edges,\n",
    "            removal_bound=hyperparameters[\"C+\"],\n",
    "            tau=hyperparameters[\"tau\"],\n",
    "            is_undirected=data.is_undirected(),\n",
    "            k = 3.,\n",
    "            progress_bar= False\n",
    "                        )\n",
    "        edge_index_rewired = torch_geometric.utils.to_undirected(torch.tensor(list(G_rewired.edges)).t())\n",
    "    elif curvaturetype == \"AFc_4\":\n",
    "        G_rewired,_ = sdrf_AFc(\n",
    "            data,\n",
    "            loops=hyperparameters[\"loops\"],\n",
    "            remove_edges=remove_edges,\n",
    "            removal_bound=hyperparameters[\"C+\"],\n",
    "            tau=hyperparameters[\"tau\"],\n",
    "            is_undirected=data.is_undirected(),\n",
    "            k = 4,\n",
    "            progress_bar= False\n",
    "                        )\n",
    "        edge_index_rewired = torch_geometric.utils.to_undirected(torch.tensor(list(G_rewired.edges)).t())\n",
    "    \n",
    "    return G_rewired,edge_index_rewired \n",
    "\n"
   ]
  },
  {
   "cell_type": "code",
   "execution_count": 3,
   "metadata": {},
   "outputs": [
    {
     "name": "stderr",
     "output_type": "stream",
     "text": [
      "c:\\ProgramFiles\\Anaconda3\\lib\\site-packages\\torch_geometric\\data\\in_memory_dataset.py:284: UserWarning: It is not recommended to directly access the internal storage format `data` of an 'InMemoryDataset'. If you are absolutely certain what you are doing, access the internal storage via `InMemoryDataset._data` instead to suppress this warning. Alternatively, you can access stacked individual attributes of every graph via `dataset.{attr_name}`.\n",
      "  warnings.warn(msg)\n"
     ]
    },
    {
     "name": "stdout",
     "output_type": "stream",
     "text": [
      "\n",
      "Dataset: cornell():\n",
      "======================\n",
      "Number of features: 1703\n",
      "Number of classes: 5\n",
      "\n",
      "Number of nodes: 140\n",
      "Number of edges: 401\n",
      "Average node degree: 2.86\n",
      "Has isolated nodes: False\n",
      "Has self-loops: True\n",
      "Is undirected: True\n",
      "Create sweep with ID: d72vz8e5\n",
      "Sweep URL: https://wandb.ai/flotori/Curvature_Neurips_FixedGNNParameters/sweeps/d72vz8e5\n"
     ]
    },
    {
     "data": {
      "application/vnd.jupyter.widget-view+json": {
       "model_id": "e7a3a90ea266464292bb9ce1cdf036e2",
       "version_major": 2,
       "version_minor": 0
      },
      "text/plain": [
       "VBox(children=(Label(value='Waiting for wandb.init()...\\r'), FloatProgress(value=0.011111111111111112, max=1.0…"
      ]
     },
     "metadata": {},
     "output_type": "display_data"
    },
    {
     "name": "stdout",
     "output_type": "stream",
     "text": [
      "===Starting Rewiring===\n"
     ]
    },
    {
     "name": "stderr",
     "output_type": "stream",
     "text": [
      "c:\\ProgramFiles\\Anaconda3\\lib\\site-packages\\numba\\cuda\\dispatcher.py:536: NumbaPerformanceWarning: \u001b[1mGrid size 81 will likely result in GPU under-utilization due to low occupancy.\u001b[0m\n",
      "  warn(NumbaPerformanceWarning(msg))\n",
      "c:\\ProgramFiles\\Anaconda3\\lib\\site-packages\\numba\\cuda\\dispatcher.py:536: NumbaPerformanceWarning: \u001b[1mGrid size 6 will likely result in GPU under-utilization due to low occupancy.\u001b[0m\n",
      "  warn(NumbaPerformanceWarning(msg))\n",
      "c:\\ProgramFiles\\Anaconda3\\lib\\site-packages\\numba\\cuda\\cudadrv\\devicearray.py:886: NumbaPerformanceWarning: \u001b[1mHost array used in CUDA kernel will incur copy overhead to/from device.\u001b[0m\n",
      "  warn(NumbaPerformanceWarning(msg))\n",
      "c:\\ProgramFiles\\Anaconda3\\lib\\site-packages\\numba\\cuda\\dispatcher.py:536: NumbaPerformanceWarning: \u001b[1mGrid size 1 will likely result in GPU under-utilization due to low occupancy.\u001b[0m\n",
      "  warn(NumbaPerformanceWarning(msg))\n",
      "c:\\ProgramFiles\\Anaconda3\\lib\\site-packages\\numba\\cuda\\dispatcher.py:536: NumbaPerformanceWarning: \u001b[1mGrid size 7 will likely result in GPU under-utilization due to low occupancy.\u001b[0m\n",
      "  warn(NumbaPerformanceWarning(msg))\n",
      "c:\\ProgramFiles\\Anaconda3\\lib\\site-packages\\numba\\cuda\\dispatcher.py:536: NumbaPerformanceWarning: \u001b[1mGrid size 2 will likely result in GPU under-utilization due to low occupancy.\u001b[0m\n",
      "  warn(NumbaPerformanceWarning(msg))\n"
     ]
    },
    {
     "name": "stdout",
     "output_type": "stream",
     "text": [
      " \n",
      " == Starting Runs == \n"
     ]
    },
    {
     "name": "stderr",
     "output_type": "stream",
     "text": [
      "0it [00:00, ?it/s]c:\\ProgramFiles\\Anaconda3\\lib\\site-packages\\torch_geometric\\data\\in_memory_dataset.py:284: UserWarning: It is not recommended to directly access the internal storage format `data` of an 'InMemoryDataset'. If you are absolutely certain what you are doing, access the internal storage via `InMemoryDataset._data` instead to suppress this warning. Alternatively, you can access stacked individual attributes of every graph via `dataset.{attr_name}`.\n",
      "  warnings.warn(msg)\n",
      "2it [00:03,  1.86s/it]\n"
     ]
    },
    {
     "name": "stdout",
     "output_type": "stream",
     "text": [
      "\n",
      "===Starting Rewiring===\n"
     ]
    },
    {
     "name": "stderr",
     "output_type": "stream",
     "text": [
      "c:\\ProgramFiles\\Anaconda3\\lib\\site-packages\\numba\\cuda\\dispatcher.py:536: NumbaPerformanceWarning: \u001b[1mGrid size 4 will likely result in GPU under-utilization due to low occupancy.\u001b[0m\n",
      "  warn(NumbaPerformanceWarning(msg))\n",
      "c:\\ProgramFiles\\Anaconda3\\lib\\site-packages\\numba\\cuda\\dispatcher.py:536: NumbaPerformanceWarning: \u001b[1mGrid size 8 will likely result in GPU under-utilization due to low occupancy.\u001b[0m\n",
      "  warn(NumbaPerformanceWarning(msg))\n",
      "c:\\ProgramFiles\\Anaconda3\\lib\\site-packages\\numba\\cuda\\dispatcher.py:536: NumbaPerformanceWarning: \u001b[1mGrid size 3 will likely result in GPU under-utilization due to low occupancy.\u001b[0m\n",
      "  warn(NumbaPerformanceWarning(msg))\n",
      "c:\\ProgramFiles\\Anaconda3\\lib\\site-packages\\numba\\cuda\\dispatcher.py:536: NumbaPerformanceWarning: \u001b[1mGrid size 16 will likely result in GPU under-utilization due to low occupancy.\u001b[0m\n",
      "  warn(NumbaPerformanceWarning(msg))\n"
     ]
    },
    {
     "name": "stdout",
     "output_type": "stream",
     "text": [
      " \n",
      " == Starting Runs == \n"
     ]
    },
    {
     "name": "stderr",
     "output_type": "stream",
     "text": [
      "2it [00:04,  2.33s/it]\n"
     ]
    },
    {
     "name": "stdout",
     "output_type": "stream",
     "text": [
      "\n"
     ]
    },
    {
     "data": {
      "application/vnd.jupyter.widget-view+json": {
       "model_id": "87ddeb0affd248f3baedd67fe9438490",
       "version_major": 2,
       "version_minor": 0
      },
      "text/plain": [
       "VBox(children=(Label(value='Waiting for wandb.init()...\\r'), FloatProgress(value=0.011111111111111112, max=1.0…"
      ]
     },
     "metadata": {},
     "output_type": "display_data"
    },
    {
     "name": "stdout",
     "output_type": "stream",
     "text": [
      "===Starting Rewiring===\n"
     ]
    },
    {
     "name": "stderr",
     "output_type": "stream",
     "text": [
      "c:\\ProgramFiles\\Anaconda3\\lib\\site-packages\\numba\\cuda\\dispatcher.py:536: NumbaPerformanceWarning: \u001b[1mGrid size 5 will likely result in GPU under-utilization due to low occupancy.\u001b[0m\n",
      "  warn(NumbaPerformanceWarning(msg))\n",
      "c:\\ProgramFiles\\Anaconda3\\lib\\site-packages\\numba\\cuda\\dispatcher.py:536: NumbaPerformanceWarning: \u001b[1mGrid size 18 will likely result in GPU under-utilization due to low occupancy.\u001b[0m\n",
      "  warn(NumbaPerformanceWarning(msg))\n",
      "c:\\ProgramFiles\\Anaconda3\\lib\\site-packages\\numba\\cuda\\dispatcher.py:536: NumbaPerformanceWarning: \u001b[1mGrid size 9 will likely result in GPU under-utilization due to low occupancy.\u001b[0m\n",
      "  warn(NumbaPerformanceWarning(msg))\n"
     ]
    },
    {
     "name": "stdout",
     "output_type": "stream",
     "text": [
      " \n",
      " == Starting Runs == \n"
     ]
    },
    {
     "name": "stderr",
     "output_type": "stream",
     "text": [
      "2it [00:03,  1.59s/it]\n"
     ]
    },
    {
     "name": "stdout",
     "output_type": "stream",
     "text": [
      "\n"
     ]
    }
   ],
   "source": [
    "\n",
    "\"\"\"\n",
    "Parameters for the experiment\n",
    "\"\"\"\n",
    "\n",
    "os.environ[\"WANDB_SILENT\"] = \"true\"\n",
    "os.environ[\"NUMBA_CUDA_LOW_OCCUPANCY_WARNINGS\"] = \"false\"\n",
    "\n",
    "datasetname = \"Cornell\"\n",
    "results_dir = \"results\"\n",
    "rewiring_run = True\n",
    "make_undirected = True\n",
    "int_node = False\n",
    "Curvature_type = \"BFc_w4cycle\"\n",
    "\n",
    "path = \"\"\n",
    "\n",
    "dataset,data,G = load_data(datasetname)\n",
    "dataset_lcc = lcc_dataset(dataset,to_undirected = make_undirected)\n",
    "data_lcc = dataset_lcc[0]\n",
    "\n",
    "data_information(dataset_lcc,data_lcc)\n",
    "\n",
    "\n",
    "with open(os.path.join('experiment_utils\\hyperparameters','hyperparameters_Neurips_FixedGNNParameters.json'), 'r') as file:\n",
    "     sweep_configuration = json.load(file)\n",
    "     sweep_configuration =sweep_configuration.get(datasetname, {})\n",
    "\n",
    "sweep_configuration[\"name\"] = datasetname + '_' + Curvature_type\n",
    "\n",
    "def objective(config,rewire = False):\n",
    "    val_acc = []\n",
    "    test_acc = []\n",
    "    if rewire:\n",
    "        print(\"===Starting Rewiring===\")\n",
    "        G_rewired,edge_index_rewired = create_rewired_edge_index(data_lcc,config,intermediate_node=int_node,remove_edges=True,curvaturetype=Curvature_type)\n",
    "        print(\" \")\n",
    "\n",
    "    print(\" == Starting Runs == \")\n",
    "    for idx_k,k in tqdm(enumerate(val_seeds[:2])):\n",
    "\n",
    "        if datasetname == \"Cora\" or datasetname == \"Citeseer\" or datasetname == \"Pubmed\":\n",
    "            data_undirected_split = set_train_val_test_split(k,data_lcc)\n",
    "        else:\n",
    "            data_undirected_split = set_train_val_test_split_frac(k,data_lcc,0.2,0.2)\n",
    "\n",
    "        if rewire:            \n",
    "            data_undirected_split.edge_index = edge_index_rewired\n",
    "\n",
    "        data_undirected_split.to(device)\n",
    "\n",
    "        Exp = Experiment(device,datasetname,dataset_lcc,data_undirected_split,config)\n",
    "\n",
    "        \n",
    "        counter = 0\n",
    "        for epoch in range(1, Exp.epoch):\n",
    "            loss = Exp.train()\n",
    "            val = Exp.validate()\n",
    "            \n",
    "            if epoch ==1:\n",
    "                best_val = val\n",
    "            elif epoch > 1 and val > best_val:\n",
    "                best_val = val\n",
    "                counter = 0\n",
    "            else:\n",
    "                counter += 1\n",
    "            if counter > 100:\n",
    "                break  \n",
    "        final_accuracy = Exp.validate()\n",
    "        final_test_acc = Exp.test()\n",
    "        val_acc.append(final_accuracy)\n",
    "        test_acc.append(final_test_acc)\n",
    "    print(\"\")\n",
    "    return np.mean(np.array(val_acc)),np.mean(np.array(test_acc))\n",
    "\n",
    "\n",
    "\n",
    "def main():\n",
    "    wandb.init(dir = \"../../wandb\")\n",
    "    acc,test_acc = objective(wandb.config,rewiring_run)\n",
    "    wandb.log({\"mean accuracy\": acc, \"mean test accuracy\": test_acc})\n",
    "\n",
    "#sweep_id = \"cwu2mmfw\"# wandb.sweep(sweep=sweep_configuration, project=\"curvature\")\n",
    "#wandb.agent(sweep_id, project=\"curvature\", function=main,count = 100)\n",
    "\n",
    "sweep_id = wandb.sweep(sweep=sweep_configuration, project=\"Curvature_Neurips_FixedGNNParameters\")\n",
    "wandb.agent(sweep_id, function=main,count = 3)"
   ]
  },
  {
   "cell_type": "code",
   "execution_count": null,
   "metadata": {},
   "outputs": [],
   "source": []
  }
 ],
 "metadata": {
  "kernelspec": {
   "display_name": "base",
   "language": "python",
   "name": "python3"
  },
  "language_info": {
   "codemirror_mode": {
    "name": "ipython",
    "version": 3
   },
   "file_extension": ".py",
   "mimetype": "text/x-python",
   "name": "python",
   "nbconvert_exporter": "python",
   "pygments_lexer": "ipython3",
   "version": "3.8.19"
  }
 },
 "nbformat": 4,
 "nbformat_minor": 2
}
